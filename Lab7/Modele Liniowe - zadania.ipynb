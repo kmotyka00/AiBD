{
 "cells": [
  {
   "cell_type": "markdown",
   "metadata": {},
   "source": [
    "##  Regresja liniowa\n",
    "\n",
    "Regresja liniowa to tworzenie modeli przedstawiających wielkość, której wartość chcemy przewidzieć (zmienna zależna) jako kombinację liniową predyktorów (zmiennych zależnych).\n",
    "\n",
    "Struktura modelu ma postać\n",
    "\n",
    "$$\\tilde{y} = \\beta_0 + \\beta_1 x_1 + \\beta_2 x_2 +\\ldots+ \\beta_n x_n$$\n",
    "\n",
    "lub w formie macierzowej \n",
    "\n",
    "$$\\tilde{\\mathbf{y}} = \\mathbf{[1\\  X ]} \\beta$$\n",
    "\n",
    "gdzie wektor wartości zmiennych zależnych jest przewidywany na podstawie macierzy danych i wektora współczynników $\\beta$.\n",
    "\n",
    "Współczynnik $\\beta_0$ w nomentkalturze anglojęzycznej jest nazywany *intercept* ponieważ jest to punkt przecięcia się z osią $y$ gdy wszystkie predyktory są równe 0.\n",
    "\n",
    "Aby wyznaczyć parametry modelu liniowego potrzebujemy wektora danych uczących, tj. znanych nam wartości zmiennej zależnej  $\\mathbf{y}$ oraz odpowiadająxcej mu macierzy predyktorów $\\mathbf{X}$. Macierz predyktorów nosi nazwę *design matrix*, i bardzo użytyeczne do jej wyznaczenia (w oparciu o dane w forme dataframe) jest pakiet [patsy](https://patsy.readthedocs.io/en/latest/quickstart.html), a w szczególności funkcja ```dmatrices```.\n",
    "\n",
    "\n",
    "Model regresyjny ma mocne umocowanie statystyczne, jednak w ramach zajęć będziemy traktować go machinistycznie jak jedną z metod uczenia maszynowego. Do tworzenia takich modeli służy klasa ```LinearRegression```\n",
    "\n",
    "Do analizy regresji liniowej wykorzystywać będziemy pakiet ```scikit-learn``` oraz zawarte w nim klasy, głównie w modułach ```linear_model```, ```metrics``` oraz ```model_selection```. \n",
    "\n",
    "### Dane uczące i dane testowe\n",
    "\n",
    "Zazwyczaj rozwiązując problem nie mamy dostępu do dodatkowych danych testowych uzupełniających nasze dane uczące. Dlatego też, popularną praktyką jest podzielenie posiadanego zbioru danych w sposób losowy na dwa zbiory: uczący i testowy. Do tego służy funkcja ```train_test_split``` z modułu ```model_selection```. \n",
    "\n"
   ]
  },
  {
   "cell_type": "markdown",
   "metadata": {},
   "source": [
    "### Zadanie 1\n",
    "Na podstawie danych zawartych w pliku SCORES.csv wykonaj i oceń regresję liniową, gdzie Twoją daną niezależną (predyktorem) będą godziny poświęcone na przygotowanie, a wynikową uzyskane punkty. Wykonanie zadania powinno składać się z następujących kroków:\n",
    "1. Zaimportowanie niezbędnych bibliotek w szczególności tych tworzących modele liniowe z \"scikit-learn\", a także biblioteki do operacji na danych oraz tworzenia wykresów.\n",
    "2. Odczytaj dane z pliku SCORES.csv. Pomocne w interpretacji danych są metody: head(), describe(), shape.\n",
    "3. Wykonaj wstępny wykres uzyskanych danych (typu \"scatter\")\n",
    "4. Dokonaj podziału danych na zbiory danych niezależnych (wejściowe, X) oraz zaleznych (wyjściowe, y) dla swojego modelu, a następnie podziel zbiór na dane testowe i treningowe (30%)\n",
    "5. Utwróz model regresji liniowej za pomocą sklearn.\n",
    "6. Wypisz i przeanalizuj wyliczone wskaźniki dla modelu: coef_ oraz intercept_. Czym one są i do czego służą?\n",
    "7. Wykorzystając stworozny model dokonaj predykcji dla części testowej X. Porównaj wynik (y_pred) z posiadanymi danymi (y_test).\n",
    "8. Wykonaj wykres konfrontujący dane testowe (X_test, y_test; typu \"scatter\") oraz predykcje (X_test, y_pred; linia prosta)\n",
    "9. Dokonaj walidacji uzyskanych predykcji wykorzystując metryki: średni błąd bezwzględny (Mean Absolute Error), błąd średniokwadratowy (Mean Squared Error) oraz pierwiastek błędu średniokwadratowego (Root Mean Squared Error).\n",
    "\n",
    "Następnie utworzony skrypt wykorzystaj na danych zawartych w SBP.csv, gdzie predyktorem będzie wiek, a wynikiem ciśnienie (SBP). Czy uzyskane wyniki z modelu są równie zadowalające?"
   ]
  },
  {
   "cell_type": "code",
   "execution_count": 160,
   "metadata": {},
   "outputs": [
    {
     "name": "stdout",
     "output_type": "stream",
     "text": [
      "   Hours  Scores\n",
      "0    2.5      21\n",
      "1    5.1      47\n",
      "2    3.2      27\n",
      "3    8.5      75\n",
      "4    3.5      30\n"
     ]
    },
    {
     "data": {
      "image/png": "[encoded data removed]",
      "text/plain": [
       "<Figure size 432x288 with 1 Axes>"
      ]
     },
     "metadata": {
      "needs_background": "light"
     },
     "output_type": "display_data"
    },
    {
     "name": "stdout",
     "output_type": "stream",
     "text": [
      "Coef: [[9.71054094]],\n",
      "Intercept: [2.79419668]\n",
      "Intercept to współczynnik Beta0 a Coef to współczynnik Beta1.\n",
      "\n",
      "Porównanie Predykcji z prawdziwymi wynikami\n",
      "predictions: [[83.39168645]\n",
      " [27.07054902]\n",
      " [27.07054902]\n",
      " [69.79692914]\n",
      " [60.0863882 ]\n",
      " [29.0126572 ]\n",
      " [34.83898177]\n",
      " [52.31795545]]\n",
      "\n",
      "real results: [[81]\n",
      " [30]\n",
      " [21]\n",
      " [76]\n",
      " [62]\n",
      " [25]\n",
      " [42]\n",
      " [47]]\n"
     ]
    },
    {
     "data": {
      "image/png": "[encoded data removed]",
      "text/plain": [
       "<Figure size 432x288 with 1 Axes>"
      ]
     },
     "metadata": {
      "needs_background": "light"
     },
     "output_type": "display_data"
    },
    {
     "name": "stdout",
     "output_type": "stream",
     "text": [
      "\n",
      "Dokładność dla danych testowych z pomocą dwóch metryk\n",
      "MAE:  4.499999999999998\n",
      "MSE:  23.61945761415174\n",
      "RMSE:  4.859985351228103\n"
     ]
    }
   ],
   "source": [
    "import pandas as pd\n",
    "import numpy as np\n",
    "import matplotlib.pyplot as plt\n",
    "\n",
    "from sklearn.linear_model import LinearRegression\n",
    "from sklearn.model_selection import train_test_split\n",
    "from sklearn import metrics\n",
    "\n",
    "df = pd.read_csv('SCORES.csv')\n",
    "print(df.head())\n",
    "\n",
    "df.plot.scatter(x='Hours', y='Scores')\n",
    "plt.title('Dostarczone dane')\n",
    "plt.show()\n",
    "\n",
    "\n",
    "X = df['Hours']\n",
    "y = df['Scores']\n",
    "\n",
    "X_train, X_test, y_train, y_test = train_test_split(np.array(X), np.array(y), test_size=0.3, random_state=42)\n",
    "X_train, X_test, y_train, y_test = X_train.reshape(-1,1), X_test.reshape(-1,1), y_train.reshape(-1,1), y_test.reshape(-1,1)\n",
    "\n",
    "reg = LinearRegression().fit(X_train, y_train)\n",
    "print(f'Coef: {reg.coef_},\\nIntercept: {reg.intercept_}')\n",
    "print('Intercept to współczynnik Beta0 a Coef to współczynnik Beta1.')\n",
    "\n",
    "y_hat = reg.predict(X_test)\n",
    "\n",
    "print('\\nPorównanie Predykcji z prawdziwymi wynikami')\n",
    "print(f'predictions: {y_hat}')\n",
    "print(f'\\nreal results: {y_test}')\n",
    "\n",
    "plt.scatter(X_test, y_test, color=\"blue\")\n",
    "plt.plot(X_test, y_hat, color=\"red\", linewidth=3)\n",
    "plt.title('Konfrontacja danych testowych z predykcjami')\n",
    "plt.show()\n",
    "\n",
    "print('\\nDokładność dla danych testowych z pomocą dwóch metryk')\n",
    "print('MAE: ', metrics.mean_absolute_error(y_test, y_hat))\n",
    "print('MSE: ', metrics.mean_squared_error(y_test, y_hat))\n",
    "print('RMSE: ', metrics.mean_squared_error(y_test, y_hat, squared=False))"
   ]
  },
  {
   "cell_type": "code",
   "execution_count": 161,
   "metadata": {},
   "outputs": [
    {
     "name": "stdout",
     "output_type": "stream",
     "text": [
      "   Age  SBP\n",
      "0   60  117\n",
      "1   61  120\n",
      "2   74  145\n",
      "3   57  129\n",
      "4   63  132\n"
     ]
    },
    {
     "data": {
      "image/png": "[encoded data removed]",
      "text/plain": [
       "<Figure size 432x288 with 1 Axes>"
      ]
     },
     "metadata": {
      "needs_background": "light"
     },
     "output_type": "display_data"
    },
    {
     "name": "stdout",
     "output_type": "stream",
     "text": [
      "Coef: [[1.44882707]],\n",
      "Intercept: [36.17936475]\n",
      "Intercept to współczynnik Beta0 a Coef to współczynnik Beta1.\n",
      "\n",
      "Porównanie Predykcji z prawdziwymi wynikami\n",
      "predictions: [[123.108989  ]\n",
      " [134.69960556]\n",
      " [146.29022213]\n",
      " [124.55781607]\n",
      " [127.45547021]\n",
      " [136.14843263]]\n",
      "\n",
      "real results: [[117]\n",
      " [130]\n",
      " [132]\n",
      " [120]\n",
      " [136]\n",
      " [141]]\n"
     ]
    },
    {
     "data": {
      "image/png": "[encoded data removed]",
      "text/plain": [
       "<Figure size 432x288 with 1 Axes>"
      ]
     },
     "metadata": {
      "needs_background": "light"
     },
     "output_type": "display_data"
    },
    {
     "name": "stdout",
     "output_type": "stream",
     "text": [
      "\n",
      "Dokładność dla danych testowych z pomocą dwóch metryk\n",
      "MAE:  7.175454985814118\n",
      "MSE:  63.48947834957039\n",
      "RMSE:  7.968028510840708\n"
     ]
    }
   ],
   "source": [
    "df = pd.read_csv('SBP.csv')\n",
    "print(df.head())\n",
    "\n",
    "df.plot.scatter(x='Age', y='SBP')\n",
    "plt.title('Dostarczone dane')\n",
    "plt.show()\n",
    "\n",
    "\n",
    "X = df['Age']\n",
    "y = df['SBP']\n",
    "\n",
    "X_train, X_test, y_train, y_test = train_test_split(np.array(X), np.array(y), test_size=0.3, random_state=42)\n",
    "X_train, X_test, y_train, y_test = X_train.reshape(-1,1), X_test.reshape(-1,1), y_train.reshape(-1,1), y_test.reshape(-1,1)\n",
    "\n",
    "reg = LinearRegression().fit(X_train, y_train)\n",
    "print(f'Coef: {reg.coef_},\\nIntercept: {reg.intercept_}')\n",
    "print('Intercept to współczynnik Beta0 a Coef to współczynnik Beta1.')\n",
    "\n",
    "y_hat = reg.predict(X_test)\n",
    "\n",
    "print('\\nPorównanie Predykcji z prawdziwymi wynikami')\n",
    "print(f'predictions: {y_hat}')\n",
    "print(f'\\nreal results: {y_test}')\n",
    "\n",
    "plt.scatter(X_test, y_test, color=\"blue\")\n",
    "plt.plot(X_test, y_hat, color=\"red\", linewidth=3)\n",
    "plt.title('Konfrontacja danych testowych z predykcjami')\n",
    "plt.show()\n",
    "\n",
    "print('\\nDokładność dla danych testowych z pomocą dwóch metryk')\n",
    "print('MAE: ', metrics.mean_absolute_error(y_test, y_hat))\n",
    "print('MSE: ', metrics.mean_squared_error(y_test, y_hat))\n",
    "print('RMSE: ', metrics.mean_squared_error(y_test, y_hat, squared=False))"
   ]
  },
  {
   "cell_type": "markdown",
   "metadata": {},
   "source": [
    "## Wnioski: Dla drugiego problemu uzyskujemy znacznie gorsze wyniki. Jest to spowodowane tym, że problem jest mniej liniowy, tzn. rzeczywiste wyniki nie zależą aż w tak liniowy sposób od parametrów wejściowych jak w przypadku pierwszego zagadanienia. Dlatego też wyniki (MAE, MSE, RMSE) są większe a na wykresie widać większe rozbieżności pomiędzy wartościami przewidzonymi a prawdziwiymi."
   ]
  },
  {
   "cell_type": "markdown",
   "metadata": {},
   "source": [
    "### Zadanie 2\n",
    "Na podstawie danych zawartych w pliku PETROL.csv wykonaj i oceń regresję liniową. Jako daną zależną wykorzystaj zużycie paliwa, a pozostałe - jako predyktory. Wykonanie zadania powinno składać się z kroków podobnych do tych z zadania poprzedniego.\n",
    "\n",
    "Czy uzyskane wyniki predykcji modelu są dobre? Co mogło mieć pozytywny/negatywny wpływ na taki wynik?"
   ]
  },
  {
   "cell_type": "code",
   "execution_count": 162,
   "metadata": {},
   "outputs": [
    {
     "name": "stdout",
     "output_type": "stream",
     "text": [
      "Dostarczone dane:\n",
      "   Podatek_paliwowy  Sredni_przychod  Utwardzone_autostrady  \\\n",
      "0               9.0             3571                   1976   \n",
      "1               9.0             4092                   1250   \n",
      "2               9.0             3865                   1586   \n",
      "3               7.5             4870                   2351   \n",
      "4               8.0             4399                    431   \n",
      "\n",
      "   Procent_ludnosci_z_prawem_jazdy  Zuzycie_paliwa  \n",
      "0                            0.525             541  \n",
      "1                            0.572             524  \n",
      "2                            0.580             561  \n",
      "3                            0.529             414  \n",
      "4                            0.544             410  \n",
      "Coef: [-3.99336011e+01 -4.53815410e-02 -4.95597538e-03  1.03711642e+03],\n",
      "Intercept: 513.1398382048233\n",
      "Intercept to współczynnik Beta0 a Coef to współczynnik Beta1.\n",
      "\n",
      "Porównanie Predykcji z prawdziwymi wynikami\n",
      "predictions: [594.68473673 657.94626287 578.77796233 577.56584838 524.60050741\n",
      " 632.85908374 575.96166242 649.04536273 556.09293684 525.54298676\n",
      " 497.98650117 529.61281259 361.20860179 714.01098433 608.17110324]\n",
      "\n",
      "real results: [631 587 577 591 460 704 525 640 410 566 464 414 344 968 628]\n",
      "\n",
      "Dokładność dla danych testowych z pomocą dwóch metryk\n",
      "MAE:  63.026524465574795\n",
      "MSE:  8076.669020354737\n",
      "RMSE:  89.87028997591327\n"
     ]
    }
   ],
   "source": [
    "df = pd.read_csv('PETROL.csv')\n",
    "print('Dostarczone dane:')\n",
    "print(df.head())\n",
    "\n",
    "\n",
    "X = df[['Podatek_paliwowy', 'Sredni_przychod', 'Utwardzone_autostrady', 'Procent_ludnosci_z_prawem_jazdy']]\n",
    "y = df['Zuzycie_paliwa']\n",
    "\n",
    "X_train, X_test, y_train, y_test = train_test_split(np.array(X), np.array(y), test_size=0.3, random_state=42)\n",
    "\n",
    "reg = LinearRegression().fit(X_train, y_train)\n",
    "print(f'Coef: {reg.coef_},\\nIntercept: {reg.intercept_}')\n",
    "print('Intercept to współczynnik Beta0 a Coef to współczynnik Beta1.')\n",
    "\n",
    "y_hat = reg.predict(X_test)\n",
    "\n",
    "print('\\nPorównanie Predykcji z prawdziwymi wynikami')\n",
    "print(f'predictions: {y_hat}')\n",
    "print(f'\\nreal results: {y_test}')\n",
    "\n",
    "\n",
    "print('\\nDokładność dla danych testowych z pomocą dwóch metryk')\n",
    "print('MAE: ', metrics.mean_absolute_error(y_test, y_hat))\n",
    "print('MSE: ', metrics.mean_squared_error(y_test, y_hat))\n",
    "print('RMSE: ', metrics.mean_squared_error(y_test, y_hat, squared=False))"
   ]
  },
  {
   "cell_type": "markdown",
   "metadata": {},
   "source": [
    "## Wnioski: Z jednej strony wyniki są prawie 10 razy gorsze niż dla poprzedniego zagadnienia. Z drugiej strony, można powiedzieć, że mimo wszystko oddają one jakoś rzeczywistość. Można więc powiedzieć, że wyniki są akceptowalne, ponieważ człowiekowi ciężko byłoby przewidzieć wyniki dla aż 5 zmiennych. Przechodząć do rzeczy, które mogły mieć negatywny wpływ na wynik, warto na pewno wymienić ilość zmiennych. Dużo ciężej dopasować wynik gdy aż tyle czynników na niego wpływa. Z drugiej strony dobrze byłoby jakoś znormalizować zmienne wejściowe, na przykład aby wszystkie były z przedziału (0, 1) ponieważ teraz różne zmienne mogą mieć różny wpłw na wynik."
   ]
  },
  {
   "cell_type": "markdown",
   "metadata": {},
   "source": [
    "### Regresja logistyczna\n",
    "\n",
    "Naturalnym rozwojem modeli linowych, są uogólnione modele liniowe (*generalized linear models*). \n",
    "\n",
    "Ich przewodnią ideą jest to, że zamiast reprezentować zmienną zależną jako kombinację liniową niezależnych, staramy się stworzyć model liniowy pewnej funkcji zmiennej zależnej.\n",
    "\n",
    "$$ f(y) =  \\beta_0 + \\beta_1 x_1 + \\beta_2 x_2 +\\ldots+ \\beta_n x_n$$\n",
    "\n",
    "wymaga się, aby funkcja ta była odwracalna, dzięki czemu \n",
    "\n",
    "$$ y = f^{-1} ( \\beta_0 + \\beta_1 x_1 + \\beta_2 x_2 +\\ldots+ \\beta_n x_n)$$\n",
    "\n",
    "Takie przekształcenie stosujemy wtedy, gdy zbiór wartości zmiennej zależnej nie jest całym zbiorem liczb rzeczywistych tylko jest w jakiś sposób ograniczony. Na przykład do przedziału $[0,1]$, do wartości dodatnich lub wartości całkowitych. W tens posób można wybrać funkcję $f$, której dziedziną jest zbiór wartości $y$ zaś obrazem jest zbiór liczb rzeczywistych.\n",
    "\n",
    "Jedną z takich funkcji jest tzw. funkcja logistyczna, która odpowiada zbiorowi $[0,1]$ przez co często jest wykorzystywana do analizy prawdopodobieństwa przynależności do danej klasy, lub też inaczej jako klasyfikator.\n",
    "\n",
    "W takiej sytuacji zmienne zależne powinny przyjmować wyłącznie wartości $0$ i $1$ co odpowiada temu czy dany punkt należy do interesującej klasy. Model logistyczny poznwala na określenie estymaty prawdopodobieństwa, czy punkt należy czy nie do danej klasy. \n",
    "\n",
    "Do tworzenia modeli logistycznyc służy klasa: ```LogisticRegression```"
   ]
  },
  {
   "cell_type": "markdown",
   "metadata": {},
   "source": [
    "### Zadanie 3\n",
    "\n",
    "Na podstawie danych zawartych w pliku HEART.csv wykonaj i oceń regresję logistyczną, gdzie Twoją daną zależną jest kolumna \"num\". Wykonanie zadania powinno składać się z następujących kroków:\n",
    "\n",
    "1. Zaimportowanie niezbędnych bibliotek w szczególności tych tworzących modele liniowe z \"scikit-learn\", a także biblioteki do operacji na danych oraz tworzenia wykresów.\n",
    "2. Odczytanie danych z pliku HEART.csv. Pomocne w interpretacji danych są metody: head(), describe(), shape.\n",
    "3. Przetworzenie danych, tj: oznaczenie braku danych (\"?\") na NaN, usunięcię kolumn zawierających zbyt dużo brakujących danych (3 kolumny), usunięcie wierszy z brakującymi wartościami.\n",
    "4. Zakoduj niezależne zmienne kategorialne np: jako wartości \"dummy\", za pomoca metody get_dummies(). Zmienne kategorialne to takie, które reprezentuja przynależność do kategorii. W przypadku naszych odfiltrowanych danych będą to kolumny: cp, restecg, fbs, sex, exang. Jako, że trzy ostatnie już zapisane są w formie 0 i 1 tylko cp i restecg wymagają tej operacji.\n",
    "5. Dokonaj podziału danych na zbiory danych niezależnych (wejściowe, X) oraz zależnych (wyjściowe, y) dla swojego modelu, a następnie podziel zbiór na dane testowe i treningowe (20%).\n",
    "6. Utwróz model regresji logistycznej.\n",
    "7. Oceń wynik za pomocą dostępnych metryk (np: metody związane z modelem czy classification_report() z sklearn)\n",
    "\n",
    "Możesz również spróbować ustandaryzować dane (np: poprzez skalowanie) po podziale na zbiory treningowy i testowy."
   ]
  },
  {
   "cell_type": "code",
   "execution_count": 163,
   "metadata": {},
   "outputs": [
    {
     "name": "stdout",
     "output_type": "stream",
     "text": [
      "Dostarczone dane:\n",
      "   age  sex  cp trestbps chol fbs restecg thalach exang  oldpeak slope ca  \\\n",
      "0   28    1   2      130  132   0       2     185     0      0.0     ?  ?   \n",
      "1   29    1   2      120  243   0       0     160     0      0.0     ?  ?   \n",
      "2   29    1   2      140    ?   0       0     170     0      0.0     ?  ?   \n",
      "3   30    0   1      170  237   0       1     170     0      0.0     ?  ?   \n",
      "4   31    0   2      100  219   0       1     150     0      0.0     ?  ?   \n",
      "\n",
      "  thal  num         \n",
      "0    ?           0  \n",
      "1    ?           0  \n",
      "2    ?           0  \n",
      "3    6           0  \n",
      "4    ?           0  \n",
      "\n",
      "Statystki powyższych danych:\n",
      "              age         sex          cp     oldpeak  num       \n",
      "count  294.000000  294.000000  294.000000  294.000000  294.000000\n",
      "mean    47.826531    0.724490    2.982993    0.586054    0.360544\n",
      "std      7.811812    0.447533    0.965117    0.908648    0.480977\n",
      "min     28.000000    0.000000    1.000000    0.000000    0.000000\n",
      "25%     42.000000    0.000000    2.000000    0.000000    0.000000\n",
      "50%     49.000000    1.000000    3.000000    0.000000    0.000000\n",
      "75%     54.000000    1.000000    4.000000    1.000000    1.000000\n",
      "max     66.000000    1.000000    4.000000    5.000000    1.000000\n"
     ]
    }
   ],
   "source": [
    "df = pd.read_csv('HEART.csv')\n",
    "print('Dostarczone dane:')\n",
    "print(df.head())\n",
    "print(\"\\nStatystki powyższych danych:\")\n",
    "print(df.describe())"
   ]
  },
  {
   "cell_type": "code",
   "execution_count": 164,
   "metadata": {},
   "outputs": [
    {
     "name": "stdout",
     "output_type": "stream",
     "text": [
      "\n",
      "Dokładność dla danych testowych z pomocą dwóch metryk\n",
      "Nieustandaryzowane:  0.8490566037735849\n",
      "Ustandaryzowane:  0.8301886792452831\n",
      "Ustandaryzowane 2:  0.660377358490566\n"
     ]
    }
   ],
   "source": [
    "#1\n",
    "from sklearn import preprocessing\n",
    "from sklearn.linear_model import LogisticRegression\n",
    "\n",
    "#2\n",
    "df = pd.read_csv('HEART.csv')\n",
    "\n",
    "#3\n",
    "df.replace(\"?\", np.nan, inplace=True)\n",
    "df.drop(columns=[\"slope\", \"ca\", \"thal\"], axis=1, inplace=True)\n",
    "df.dropna(inplace=True)\n",
    "\n",
    "#4\n",
    "for column in ['cp', 'restecg']:\n",
    "    if df[column].dtype == object:\n",
    "        df[column] = pd.to_numeric(df[column])\n",
    "\n",
    "#5\n",
    "X = df.iloc[:, 0:-1]\n",
    "y = df.iloc[:, -1]\n",
    "\n",
    "X_train, X_test, y_train, y_test = train_test_split(np.array(X), np.array(y), test_size=0.2, random_state=42)\n",
    "#y_train, y_test = y_train.reshape(-1,1), y_test.reshape(-1,1)\n",
    "\n",
    "#6\n",
    "reg = LogisticRegression(max_iter=2000).fit(X_train, y_train)\n",
    "\n",
    "scaler1 = preprocessing.StandardScaler().fit(X_train)\n",
    "X_train_scaled = scaler1.transform(X_train)\n",
    "scaler2 = preprocessing.StandardScaler().fit(X_train)\n",
    "X_test_scaled = scaler2.transform(X_test)\n",
    "reg_scaled = LogisticRegression(max_iter=2000).fit(X_train_scaled, y_train)\n",
    "\n",
    "X_train_std = preprocessing.normalize(X_train, axis=1, copy=False)\n",
    "X_test_std = preprocessing.normalize(X_test, axis=1, copy=True)\n",
    "reg_std = LogisticRegression(max_iter=2000).fit(X_train_std, y_train)\n",
    "\n",
    "print('\\nDokładność dla danych testowych z pomocą dwóch metryk')\n",
    "print(\"Nieustandaryzowane: \", reg.score(X_test, y_test))\n",
    "print(\"Ustandaryzowane: \", reg_scaled.score(X_test_scaled, y_test))\n",
    "print(\"Ustandaryzowane 2: \", reg_std.score(X_test_std, y_test))\n"
   ]
  },
  {
   "cell_type": "markdown",
   "metadata": {},
   "source": [
    "### Wnioski: Wyniki są zadowalające, około 85% przypadków jest dobrze klasyfikowanych. Niestety standaryzacja nie poprawiła wyniku."
   ]
  }
 ],
 "metadata": {
  "kernelspec": {
   "display_name": "Python 3",
   "language": "python",
   "name": "python3"
  },
  "language_info": {
   "codemirror_mode": {
    "name": "ipython",
    "version": 3
   },
   "file_extension": ".py",
   "mimetype": "text/x-python",
   "name": "python",
   "nbconvert_exporter": "python",
   "pygments_lexer": "ipython3",
   "version": "3.8.3"
  }
 },
 "nbformat": 4,
 "nbformat_minor": 4
}
