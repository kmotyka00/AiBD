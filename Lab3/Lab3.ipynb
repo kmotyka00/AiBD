{
  "nbformat": 4,
  "nbformat_minor": 0,
  "metadata": {
    "colab": {
      "name": "Lab3.ipynb",
      "provenance": [],
      "collapsed_sections": []
    },
    "kernelspec": {
      "name": "python3",
      "display_name": "Python 3"
    },
    "language_info": {
      "name": "python"
    }
  },
  "cells": [
    {
      "cell_type": "markdown",
      "metadata": {
        "id": "fw59EJJ2Q2jK"
      },
      "source": [
        "# AiBD Laboratorium 3 - Kacper Motyka"
      ]
    },
    {
      "cell_type": "markdown",
      "metadata": {
        "id": "t-Kfanb6Q-OK"
      },
      "source": [
        "## Łączenie z bazą danych"
      ]
    },
    {
      "cell_type": "code",
      "metadata": {
        "id": "dmoTRQY9PCmr",
        "colab": {
          "base_uri": "https://localhost:8080/"
        },
        "outputId": "d05bce1b-c8e0-4946-a01d-dea773a3f246"
      },
      "source": [
        "import psycopg2 as pg\n",
        "import pandas as pd\n",
        "\n",
        "connection = pg.connect(host='pgsql-196447.vipserv.org', port=5432, dbname='wbauer_adb', user='wbauer_adb', password='adb2020')"
      ],
      "execution_count": 2,
      "outputs": [
        {
          "output_type": "stream",
          "name": "stderr",
          "text": [
            "/usr/local/lib/python3.7/dist-packages/psycopg2/__init__.py:144: UserWarning: The psycopg2 wheel package will be renamed from release 2.8; in order to keep installing from binary please use \"pip install psycopg2-binary\" instead. For details see: <http://initd.org/psycopg/docs/install.html#binary-install-from-pypi>.\n",
            "  \"\"\")\n"
          ]
        }
      ]
    },
    {
      "cell_type": "markdown",
      "metadata": {
        "id": "V2mBpjgTRBnr"
      },
      "source": [
        "## Zadanie 1. Ile kategorii filmów mamy w wypożyczalni?"
      ]
    },
    {
      "cell_type": "code",
      "metadata": {
        "colab": {
          "base_uri": "https://localhost:8080/"
        },
        "id": "7oL-BquqPqXF",
        "outputId": "01cfcbc5-6f13-4bf5-b815-9c555812f711"
      },
      "source": [
        "number_of_categories = pd.read_sql('SELECT  DISTINCT category_id FROM category',con=connection).count()\n",
        "print(number_of_categories)"
      ],
      "execution_count": 3,
      "outputs": [
        {
          "output_type": "stream",
          "name": "stdout",
          "text": [
            "category_id    16\n",
            "dtype: int64\n"
          ]
        }
      ]
    },
    {
      "cell_type": "markdown",
      "metadata": {
        "id": "Ja5Ax0N6SRo_"
      },
      "source": [
        "### Odpowiedź: W wypożyczalni mamy 16 kategorii filmów."
      ]
    },
    {
      "cell_type": "markdown",
      "metadata": {
        "id": "c-IVcBSQSYMW"
      },
      "source": [
        "## Zadanie 2. Wyświetl listę kategorii w kolejności alfabetycznej."
      ]
    },
    {
      "cell_type": "code",
      "metadata": {
        "colab": {
          "base_uri": "https://localhost:8080/"
        },
        "id": "ArQqtPeESWBW",
        "outputId": "f5776525-1ec7-4cba-b480-9e0bdebfd8ac"
      },
      "source": [
        "categories_ordered = pd.read_sql('SELECT name FROM category ORDER BY name',con=connection)\n",
        "print(categories_ordered)"
      ],
      "execution_count": 4,
      "outputs": [
        {
          "output_type": "stream",
          "name": "stdout",
          "text": [
            "           name\n",
            "0        Action\n",
            "1     Animation\n",
            "2      Children\n",
            "3      Classics\n",
            "4        Comedy\n",
            "5   Documentary\n",
            "6         Drama\n",
            "7        Family\n",
            "8       Foreign\n",
            "9         Games\n",
            "10       Horror\n",
            "11        Music\n",
            "12          New\n",
            "13       Sci-Fi\n",
            "14       Sports\n",
            "15       Travel\n"
          ]
        }
      ]
    },
    {
      "cell_type": "markdown",
      "metadata": {
        "id": "qdFSG8ZFTKfA"
      },
      "source": [
        "## Zadanie 3. Znajdź najstarszy i najmłodszy film do wypożyczenia."
      ]
    },
    {
      "cell_type": "code",
      "metadata": {
        "colab": {
          "base_uri": "https://localhost:8080/"
        },
        "id": "974y9_fgTOQY",
        "outputId": "d50dd6d6-23c2-4e40-e096-9f193839645f"
      },
      "source": [
        "oldest_newest__film = pd.read_sql('SELECT title FROM film ORDER BY release_year',con=connection)\n",
        "print(oldest_newest__film)"
      ],
      "execution_count": 5,
      "outputs": [
        {
          "output_type": "stream",
          "name": "stdout",
          "text": [
            "                 title\n",
            "0      Chamber Italian\n",
            "1     Grosse Wonderful\n",
            "2      Airport Pollock\n",
            "3    Bright Encounters\n",
            "4     Academy Dinosaur\n",
            "..                 ...\n",
            "995     Young Language\n",
            "996         Youth Kick\n",
            "997       Zhivago Core\n",
            "998  Zoolander Fiction\n",
            "999          Zorro Ark\n",
            "\n",
            "[1000 rows x 1 columns]\n"
          ]
        }
      ]
    },
    {
      "cell_type": "markdown",
      "metadata": {
        "id": "72Ery-bbiC5Z"
      },
      "source": [
        "### Odpowiedź: Posortowałem według dat wszystkie filmy, od najstarszego do najnowszego, stąd wiem, że najstarszy film to 'Chamber Italian' a najnowszy film to 'Zorro Ark'."
      ]
    },
    {
      "cell_type": "markdown",
      "metadata": {
        "id": "U9ORHXd-VnBe"
      },
      "source": [
        "## Zadanie 4. Ile wypożyczeń odbyło się między 2005-07-01 a 2005-08-01?"
      ]
    },
    {
      "cell_type": "code",
      "metadata": {
        "colab": {
          "base_uri": "https://localhost:8080/"
        },
        "id": "jjWj6k7aVsgu",
        "outputId": "f5ef4938-9c5e-4066-b148-932c0fee8648"
      },
      "source": [
        "between_film = pd.read_sql(\"SELECT COUNT(*) FROM rental WHERE rental_date BETWEEN '2005-07-01'::timestamp AND '2005-08-01'::timestamp\",con=connection)\n",
        "print(between_film)"
      ],
      "execution_count": 6,
      "outputs": [
        {
          "output_type": "stream",
          "name": "stdout",
          "text": [
            "   count\n",
            "0   6709\n"
          ]
        }
      ]
    },
    {
      "cell_type": "markdown",
      "metadata": {
        "id": "_rINVxSOO4v_"
      },
      "source": [
        "### Odpowiedź: Pomiędzy 2005-07-01 a 2005-08-01 było 6709 wypożyczeń."
      ]
    },
    {
      "cell_type": "markdown",
      "metadata": {
        "id": "ijeNl2Z7XRLx"
      },
      "source": [
        "## Zadanie 5. Ile wypożyczeń odbyło się między 2010-01-01 a 2011-02-01?"
      ]
    },
    {
      "cell_type": "code",
      "metadata": {
        "colab": {
          "base_uri": "https://localhost:8080/"
        },
        "id": "SBpcboYTXQI4",
        "outputId": "4a81c624-b22d-4a7b-a6c5-3b06e6bb4ec4"
      },
      "source": [
        "between_film = pd.read_sql(\"SELECT COUNT(*) FROM rental WHERE rental_date BETWEEN '2010-01-01 00:00:00'::timestamp AND '2011-02-01 23:59:59'::timestamp\",con=connection)\n",
        "print(between_film)"
      ],
      "execution_count": 7,
      "outputs": [
        {
          "output_type": "stream",
          "name": "stdout",
          "text": [
            "   count\n",
            "0      0\n"
          ]
        }
      ]
    },
    {
      "cell_type": "markdown",
      "metadata": {
        "id": "vaY0DcbtPGxz"
      },
      "source": [
        "### Odpowiedź: Pomiędzy 2010-01-01 a 2011-02-01 było 0 wypożyczeń, ponieważ dane pochodzą ze wcześniejszych lat."
      ]
    },
    {
      "cell_type": "markdown",
      "metadata": {
        "id": "rK0km06nYpnD"
      },
      "source": [
        "## Zadanie 6. Znajdź największą płatność wypożyczenia."
      ]
    },
    {
      "cell_type": "code",
      "metadata": {
        "colab": {
          "base_uri": "https://localhost:8080/"
        },
        "id": "SonSIkh4YuV8",
        "outputId": "a14a7d3c-36db-41d9-9e9d-6d89bc8bc3f9"
      },
      "source": [
        "highest_payment = pd.read_sql(\"SELECT MAX(amount) FROM payment\",con=connection)\n",
        "print(highest_payment)"
      ],
      "execution_count": 8,
      "outputs": [
        {
          "output_type": "stream",
          "name": "stdout",
          "text": [
            "     max\n",
            "0  11.99\n"
          ]
        }
      ]
    },
    {
      "cell_type": "markdown",
      "metadata": {
        "id": "yBDcF1i-Po0x"
      },
      "source": [
        "### Odpowiedź: Największa płatność wynosiła 11.99."
      ]
    },
    {
      "cell_type": "markdown",
      "metadata": {
        "id": "7HI-laBsZkYP"
      },
      "source": [
        "## Zadanie 7. Znajdź wszystkich klientów z Polski, Nigerii lub Bangladeszu."
      ]
    },
    {
      "cell_type": "code",
      "metadata": {
        "colab": {
          "base_uri": "https://localhost:8080/"
        },
        "id": "X3sIY5M5Zr1n",
        "outputId": "a4d603ff-c307-4653-a1ed-e50621a8a155"
      },
      "source": [
        "#WHERE country.country IN ('Poland', 'Nigeria', 'Bangladesh')\"\n",
        "\n",
        "pol_nig_ban = pd.read_sql(\"SELECT customer.first_name, customer. last_name, \\\n",
        "                           country.country \\\n",
        "                           FROM country \\\n",
        "                           LEFT JOIN city \\\n",
        "                           ON country.country_id = city.country_id \\\n",
        "                           LEFT JOIN address \\\n",
        "                           ON city.city_id = address.city_id \\\n",
        "                           LEFT JOIN customer \\\n",
        "                           ON address.address_id = customer.address_id \\\n",
        "                           WHERE country.country IN ('Poland', 'Nigeria', 'Bangladesh') \\\n",
        "                           \",\n",
        "                           con=connection)\n",
        "print(pol_nig_ban)"
      ],
      "execution_count": 9,
      "outputs": [
        {
          "output_type": "stream",
          "name": "stdout",
          "text": [
            "   first_name  last_name     country\n",
            "0       Sonia    Gregory     Nigeria\n",
            "1       Brian      Wyman      Poland\n",
            "2      Sidney   Burleson      Poland\n",
            "3      Rodney    Moeller     Nigeria\n",
            "4     Stephen     Qualls  Bangladesh\n",
            "5       Velma      Lucas     Nigeria\n",
            "6     Marilyn       Ross     Nigeria\n",
            "7       Elsie     Kelley     Nigeria\n",
            "8      Gladys   Hamilton     Nigeria\n",
            "9       Frank   Waggoner  Bangladesh\n",
            "10   Marjorie     Tucker      Poland\n",
            "11      Carol     Garcia     Nigeria\n",
            "12       Leah     Curtis      Poland\n",
            "13      Ruben      Geary      Poland\n",
            "14       Olga    Jimenez     Nigeria\n",
            "15     Bertha   Ferguson     Nigeria\n",
            "16     Tracey    Barrett     Nigeria\n",
            "17         Jo     Fowler     Nigeria\n",
            "18    Johnnie   Chisholm      Poland\n",
            "19    Wallace      Slone     Nigeria\n",
            "20   Michelle      Clark  Bangladesh\n",
            "21    Russell    Brinson      Poland\n",
            "22     Jimmie  Eggleston      Poland\n",
            "23  Constance       Reid     Nigeria\n"
          ]
        }
      ]
    },
    {
      "cell_type": "markdown",
      "metadata": {
        "id": "tgB8NRyEShN0"
      },
      "source": [
        "### Odpowiedź: Jest 24 takich klientów, wyżej dla przejrzystości wyświetliłem jedynie imię, nazwisko oraz kraj z którego klient pochodzi."
      ]
    },
    {
      "cell_type": "markdown",
      "metadata": {
        "id": "fo8QPwOHSrhA"
      },
      "source": [
        "## Zadanie 8. Gdzie mieszkają członkowie personelu?\n"
      ]
    },
    {
      "cell_type": "code",
      "metadata": {
        "colab": {
          "base_uri": "https://localhost:8080/"
        },
        "id": "wnCi5pZWSqPi",
        "outputId": "1e2c66fc-abcb-4599-d538-0337b08af505"
      },
      "source": [
        "addresses_of_personnel = pd.read_sql(\"SELECT staff.first_name, staff.last_name, \\\n",
        "                           country, city, address.address \\\n",
        "                           FROM staff \\\n",
        "                           LEFT JOIN address \\\n",
        "                           ON staff.address_id = address.address_id \\\n",
        "                           LEFT JOIN city \\\n",
        "                            ON address.city_id = city.city_id \\\n",
        "                            LEFT JOIN country \\\n",
        "                            ON city.country_id = country.country_id\", \n",
        "                           con=connection)\n",
        "print(addresses_of_personnel)"
      ],
      "execution_count": 22,
      "outputs": [
        {
          "output_type": "stream",
          "name": "stdout",
          "text": [
            "  first_name last_name    country        city               address\n",
            "0       Mike   Hillyer     Canada  Lethbridge     23 Workhaven Lane\n",
            "1        Jon  Stephens  Australia   Woodridge  1411 Lillydale Drive\n"
          ]
        }
      ]
    },
    {
      "cell_type": "markdown",
      "metadata": {
        "id": "gRFsq3XMTxfm"
      },
      "source": [
        "### Odpowiedź: W wypożyczalni pracują dwie osoby o następujących adresach. Aby uzyskać informacje o adresach należało dołączyć informacje z datasetu address za pomocą LEFT JOIN."
      ]
    },
    {
      "cell_type": "markdown",
      "metadata": {
        "id": "p2QTx1VCT_vB"
      },
      "source": [
        "## Zadanie 9. Ilu pracowników mieszka w Argentynie lub Hiszpanii?"
      ]
    },
    {
      "cell_type": "code",
      "metadata": {
        "id": "t1kJMS0YZ3aO",
        "colab": {
          "base_uri": "https://localhost:8080/"
        },
        "outputId": "b6a9889d-a5ea-459f-81d9-3f50ff5f701d"
      },
      "source": [
        "countries_of_personnel = pd.read_sql(\"SELECT staff.first_name, staff. last_name, \\\n",
        "                                      country.country \\\n",
        "                                      FROM staff \\\n",
        "                                      LEFT JOIN address \\\n",
        "                                      ON staff.address_id = address.address_id \\\n",
        "                                      LEFT JOIN city \\\n",
        "                                      ON address.city_id = city.city_id \\\n",
        "                                      LEFT JOIN country \\\n",
        "                                      ON city.country_id = country.country_id\",\n",
        "                                      con=connection)\n",
        "\n",
        "count_of_personnel = pd.read_sql(\"SELECT COUNT(*) \\\n",
        "                                  FROM staff \\\n",
        "                                  LEFT JOIN address \\\n",
        "                                  ON staff.address_id = address.address_id \\\n",
        "                                  LEFT JOIN city \\\n",
        "                                  ON address.city_id = city.city_id \\\n",
        "                                  LEFT JOIN country \\\n",
        "                                  ON city.country_id = country.country_id \\\n",
        "                                  WHERE country.country IN ('Argentina', 'Spain')\",\n",
        "                                  con=connection)\n",
        "\n",
        "print(countries_of_personnel)\n",
        "print(\"\\nNumber of personel from Argentina or Spain: \\n\", count_of_personnel)"
      ],
      "execution_count": 11,
      "outputs": [
        {
          "output_type": "stream",
          "name": "stdout",
          "text": [
            "  first_name last_name    country\n",
            "0       Mike   Hillyer     Canada\n",
            "1        Jon  Stephens  Australia\n",
            "\n",
            "Number of personel from Argentina or Spain: \n",
            "    count\n",
            "0      0\n"
          ]
        }
      ]
    },
    {
      "cell_type": "markdown",
      "metadata": {
        "id": "kba5VMK_VvoC"
      },
      "source": [
        "### Odpowiedź: Widać, że nikt z personelu nie pochodzi z Argentyny ani Hiszpani. Personel pochodzi z Kanady oraz Australii."
      ]
    },
    {
      "cell_type": "markdown",
      "metadata": {
        "id": "N90IrrnDV3oE"
      },
      "source": [
        "## Zadanie 10. Jakie kategorie filmów zostały wypożyczone przez klientów?"
      ]
    },
    {
      "cell_type": "code",
      "metadata": {
        "colab": {
          "base_uri": "https://localhost:8080/"
        },
        "id": "n0pf_w_lWPNJ",
        "outputId": "a842dcfd-f370-4595-8ec3-24606475c227"
      },
      "source": [
        "categories_of_rented = pd.read_sql(\"SELECT DISTINCT  category.name, count(category.name) \\\n",
        "                                    FROM rental \\\n",
        "                                    LEFT JOIN inventory \\\n",
        "                                    ON rental.inventory_id = inventory.inventory_id \\\n",
        "                                    LEFT JOIN film \\\n",
        "                                    ON inventory.film_id = film.film_id \\\n",
        "                                    LEFT JOIN film_category \\\n",
        "                                    ON film.film_id = film_category.film_id \\\n",
        "                                    LEFT JOIN category \\\n",
        "                                    ON film_category.category_id = category.category_id \\\n",
        "                                    GROUP BY category.name\",\n",
        "                                    con=connection)\n",
        "print(categories_of_rented)"
      ],
      "execution_count": 12,
      "outputs": [
        {
          "output_type": "stream",
          "name": "stdout",
          "text": [
            "           name  count\n",
            "0        Action   1112\n",
            "1     Animation   1166\n",
            "2      Children    945\n",
            "3      Classics    939\n",
            "4        Comedy    941\n",
            "5   Documentary   1050\n",
            "6         Drama   1060\n",
            "7        Family   1096\n",
            "8       Foreign   1033\n",
            "9         Games    969\n",
            "10       Horror    846\n",
            "11        Music    830\n",
            "12          New    940\n",
            "13       Sci-Fi   1101\n",
            "14       Sports   1179\n",
            "15       Travel    837\n"
          ]
        }
      ]
    },
    {
      "cell_type": "markdown",
      "metadata": {
        "id": "pvFy8ZVxZqWj"
      },
      "source": [
        "### Odpowiedź: Generalnie kolejnymi LEFT JOINami przechodzę po drzewku przedstawiającym schemat bazy danych do tej informacji, któa mnie interesuje. Jak widać wszystkie kategorie filmów zostały wypożyczone."
      ]
    },
    {
      "cell_type": "markdown",
      "metadata": {
        "id": "EIMJTPeIZ-ZH"
      },
      "source": [
        "## Zadanie 11. Znajdź wszystkie kategorie filmów wypożyczonych w Ameryce."
      ]
    },
    {
      "cell_type": "code",
      "metadata": {
        "colab": {
          "base_uri": "https://localhost:8080/"
        },
        "id": "-YpN1mrwaD83",
        "outputId": "6e82cedc-2f6e-47e5-8773-4225106aac90"
      },
      "source": [
        "categories_of_rented_in_america = pd.read_sql(\"SELECT DISTINCT  category.name, count(category.name) \\\n",
        "                                              FROM rental \\\n",
        "                                              LEFT JOIN inventory \\\n",
        "                                              ON rental.inventory_id = inventory.inventory_id \\\n",
        "                                              LEFT JOIN film \\\n",
        "                                              ON inventory.film_id = film.film_id \\\n",
        "                                              LEFT JOIN film_category \\\n",
        "                                              ON film.film_id = film_category.film_id \\\n",
        "                                              LEFT JOIN category \\\n",
        "                                              ON film_category.category_id = category.category_id \\\n",
        "                                              LEFT JOIN customer \\\n",
        "                                              ON customer.customer_id = rental.customer_id \\\n",
        "                                              LEFT JOIN address \\\n",
        "                                              ON address.address_id = customer.address_id \\\n",
        "                                              LEFT JOIN city \\\n",
        "                                              ON address.city_id = city.city_id \\\n",
        "                                              LEFT JOIN country \\\n",
        "                                              ON country.country_id = city.country_id \\\n",
        "                                              WHERE country.country IN ('United States') \\\n",
        "                                              GROUP BY category.name \\\n",
        "                                              \",\n",
        "                                              con=connection)\n",
        "print(categories_of_rented_in_america)"
      ],
      "execution_count": 26,
      "outputs": [
        {
          "output_type": "stream",
          "name": "stdout",
          "text": [
            "           name  count\n",
            "0        Action     62\n",
            "1     Animation     68\n",
            "2      Children     56\n",
            "3      Classics     54\n",
            "4        Comedy     59\n",
            "5   Documentary     74\n",
            "6         Drama     69\n",
            "7        Family     66\n",
            "8       Foreign     64\n",
            "9         Games     60\n",
            "10       Horror     62\n",
            "11        Music     51\n",
            "12          New     55\n",
            "13       Sci-Fi     62\n",
            "14       Sports     73\n",
            "15       Travel     33\n"
          ]
        }
      ]
    },
    {
      "cell_type": "markdown",
      "metadata": {
        "id": "a8_tBCzhdS4m"
      },
      "source": [
        "### Odpowiedź: W Ameryce wypożoczono 968 filmów o przeróżnych kategoriach."
      ]
    },
    {
      "cell_type": "markdown",
      "metadata": {
        "id": "knAGgXA1dNu7"
      },
      "source": [
        "## Zadanie 12. Znajdź wszystkie tytuły filmów, w których grał: Olympia Pfeiffer lub Julia Zellweger lub Ellen Presley."
      ]
    },
    {
      "cell_type": "code",
      "metadata": {
        "colab": {
          "base_uri": "https://localhost:8080/"
        },
        "id": "UuFC3ZUbeHsz",
        "outputId": "e3f6ced4-802f-4307-bf49-bf259a2f47b4"
      },
      "source": [
        "OP_or_JZ = pd.read_sql(\"SELECT film.title, actor.first_name, actor.last_name \\\n",
        "                        FROM film \\\n",
        "                        LEFT JOIN film_actor \\\n",
        "                        ON film.film_id = film_actor.film_id \\\n",
        "                        LEFT JOIN actor \\\n",
        "                        ON film_actor.actor_id = actor.actor_id \\\n",
        "                        WHERE (actor.first_name = 'Olympia' and actor.last_name = 'Pfeiffer') or \\\n",
        "                              (actor.first_name = 'Julia' and actor.last_name = 'Zellweger') or \\\n",
        "                              (actor.first_name = 'Ellen' and actor.last_name = 'Presley') \\\n",
        "                        \", con=connection)\n",
        "\n",
        "print(OP_or_JZ)"
      ],
      "execution_count": 15,
      "outputs": [
        {
          "output_type": "stream",
          "name": "stdout",
          "text": [
            "                title first_name  last_name\n",
            "0     Bilko Anonymous      Ellen    Presley\n",
            "1   Caribbean Liberty      Ellen    Presley\n",
            "2    Casper Dragonfly      Ellen    Presley\n",
            "3    Empire Malkovich      Ellen    Presley\n",
            "4       Floats Garden      Ellen    Presley\n",
            "..                ...        ...        ...\n",
            "64       Outlaw Hanky      Julia  Zellweger\n",
            "65    Panky Submarine      Julia  Zellweger\n",
            "66   Rider Caddyshack      Julia  Zellweger\n",
            "67          Won Dares      Julia  Zellweger\n",
            "68      Wyoming Storm      Julia  Zellweger\n",
            "\n",
            "[69 rows x 3 columns]\n"
          ]
        }
      ]
    },
    {
      "cell_type": "markdown",
      "metadata": {
        "id": "JV5fIDfCgDOP"
      },
      "source": [
        "### Odpowiedź: Znaleziono 69 filmów w których grały powyższe aktorki."
      ]
    },
    {
      "cell_type": "markdown",
      "metadata": {
        "id": "DyXrn5qggJq-"
      },
      "source": [
        "## Wnioski\n",
        "\n",
        "### Za pomocą SQL możemy w prosty sposob otrzymywać z bazy danych odpowiedzi na bardzo konkrentne pytania, dlatego też jest to bardzo użyteczne narzędzie.\n",
        "\n",
        "### Możemy używać różnych funkcji, dzięki czemu możemy poznać na przykład ilość wystąpień danego zapytania.\n",
        "\n",
        "### Za pomocą pythona i jego modułów takich jak pandas, psycopg2, sqlalchemy  możemy na kilka sposobów łączyć się z bazą danych.\n",
        "\n",
        "### Dzięki tym bibliotekom możemy też używać języka SQL w pythonie co sprawia SQL'a jeszcze bardziej wszechstronnym.\n",
        "\n",
        "### Mamy dostępnych wiele klauzul takich jak DISTINCT (który wybiera tylko jedną daną wartość zamiast na przykład dziesięciu), WHERE, za pomocą której możemy przeszukiwać bazę danych z zadanymi warunkami i wiele więcej.\n",
        "\n",
        "### Powyższe ćwiczenie nauczyło nas używania podstawowych QUERY, dzięki czemu zdobyliśmy przydatną wiedzę, którą będziemy mogli wykorzystać w przyszłości."
      ]
    }
  ]
}