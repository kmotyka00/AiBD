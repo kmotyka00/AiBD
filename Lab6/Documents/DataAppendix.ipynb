{
 "cells": [
  {
   "cell_type": "markdown",
   "metadata": {},
   "source": [
    "# Data Appendix\n",
    "\n",
    "## Dane zostały pobrane z pliku AnalysisData/swietokrzyskie_clean.csv."
   ]
  },
  {
   "cell_type": "markdown",
   "metadata": {},
   "source": [
    "## 1. Informacje ogólne"
   ]
  },
  {
   "cell_type": "code",
   "execution_count": 2,
   "metadata": {},
   "outputs": [
    {
     "data": {
      "text/html": [
       "<div>\n",
       "<style scoped>\n",
       "    .dataframe tbody tr th:only-of-type {\n",
       "        vertical-align: middle;\n",
       "    }\n",
       "\n",
       "    .dataframe tbody tr th {\n",
       "        vertical-align: top;\n",
       "    }\n",
       "\n",
       "    .dataframe thead th {\n",
       "        text-align: right;\n",
       "    }\n",
       "</style>\n",
       "<table border=\"1\" class=\"dataframe\">\n",
       "  <thead>\n",
       "    <tr style=\"text-align: right;\">\n",
       "      <th></th>\n",
       "      <th>Dni od zakupu</th>\n",
       "      <th>Marka</th>\n",
       "      <th>Wiek kupującego</th>\n",
       "      <th>Płeć kupującego</th>\n",
       "      <th>Ocena</th>\n",
       "    </tr>\n",
       "  </thead>\n",
       "  <tbody>\n",
       "    <tr>\n",
       "      <th>0</th>\n",
       "      <td>7</td>\n",
       "      <td>Beko</td>\n",
       "      <td>33.0</td>\n",
       "      <td>M</td>\n",
       "      <td>3.0</td>\n",
       "    </tr>\n",
       "    <tr>\n",
       "      <th>1</th>\n",
       "      <td>7</td>\n",
       "      <td>Beko</td>\n",
       "      <td>55.0</td>\n",
       "      <td>NaN</td>\n",
       "      <td>3.0</td>\n",
       "    </tr>\n",
       "    <tr>\n",
       "      <th>2</th>\n",
       "      <td>10</td>\n",
       "      <td>Beko</td>\n",
       "      <td>50.0</td>\n",
       "      <td>M</td>\n",
       "      <td>2.0</td>\n",
       "    </tr>\n",
       "    <tr>\n",
       "      <th>3</th>\n",
       "      <td>11</td>\n",
       "      <td>Tefal</td>\n",
       "      <td>36.0</td>\n",
       "      <td>M</td>\n",
       "      <td>2.5</td>\n",
       "    </tr>\n",
       "    <tr>\n",
       "      <th>4</th>\n",
       "      <td>3</td>\n",
       "      <td>Beko</td>\n",
       "      <td>62.0</td>\n",
       "      <td>K</td>\n",
       "      <td>2.5</td>\n",
       "    </tr>\n",
       "  </tbody>\n",
       "</table>\n",
       "</div>"
      ],
      "text/plain": [
       "   Dni od zakupu  Marka  Wiek kupującego Płeć kupującego  Ocena\n",
       "0              7   Beko             33.0               M    3.0\n",
       "1              7   Beko             55.0             NaN    3.0\n",
       "2             10   Beko             50.0               M    2.0\n",
       "3             11  Tefal             36.0               M    2.5\n",
       "4              3   Beko             62.0               K    2.5"
      ]
     },
     "execution_count": 2,
     "metadata": {},
     "output_type": "execute_result"
    }
   ],
   "source": [
    "import pandas as pd\n",
    "import numpy as np\n",
    "import matplotlib.pyplot as plt\n",
    "# Odczytanie pliku csv\n",
    "ds = pd.read_csv('../AnalysisData/swietokrzyskie_clean.csv')\n",
    "\n",
    "# 5 pierwszych rekordów\n",
    "ds.head(5)"
   ]
  },
  {
   "cell_type": "code",
   "execution_count": 3,
   "metadata": {},
   "outputs": [
    {
     "name": "stdout",
     "output_type": "stream",
     "text": [
      "<class 'pandas.core.frame.DataFrame'>\n",
      "RangeIndex: 466 entries, 0 to 465\n",
      "Data columns (total 5 columns):\n",
      " #   Column           Non-Null Count  Dtype  \n",
      "---  ------           --------------  -----  \n",
      " 0   Dni od zakupu    466 non-null    int64  \n",
      " 1   Marka            466 non-null    object \n",
      " 2   Wiek kupującego  418 non-null    float64\n",
      " 3   Płeć kupującego  368 non-null    object \n",
      " 4   Ocena            466 non-null    float64\n",
      "dtypes: float64(2), int64(1), object(2)\n",
      "memory usage: 18.3+ KB\n"
     ]
    }
   ],
   "source": [
    "ds.info()"
   ]
  },
  {
   "cell_type": "markdown",
   "metadata": {},
   "source": [
    "### Braki w danych\n",
    "\n",
    "Z powyższej informacji możemy wnioskować, że 48 osób nie podało wieku oraz 98 osób nie podało swojej płci. Oprócz tych kilku braków dane są kompletne, ponieważ liczba wartości nie będących nullem zgadza się z liczbą rekordów."
   ]
  },
  {
   "cell_type": "code",
   "execution_count": 4,
   "metadata": {},
   "outputs": [
    {
     "data": {
      "text/html": [
       "<div>\n",
       "<style scoped>\n",
       "    .dataframe tbody tr th:only-of-type {\n",
       "        vertical-align: middle;\n",
       "    }\n",
       "\n",
       "    .dataframe tbody tr th {\n",
       "        vertical-align: top;\n",
       "    }\n",
       "\n",
       "    .dataframe thead th {\n",
       "        text-align: right;\n",
       "    }\n",
       "</style>\n",
       "<table border=\"1\" class=\"dataframe\">\n",
       "  <thead>\n",
       "    <tr style=\"text-align: right;\">\n",
       "      <th></th>\n",
       "      <th>Dni od zakupu</th>\n",
       "      <th>Marka</th>\n",
       "      <th>Wiek kupującego</th>\n",
       "      <th>Płeć kupującego</th>\n",
       "      <th>Ocena</th>\n",
       "    </tr>\n",
       "  </thead>\n",
       "  <tbody>\n",
       "    <tr>\n",
       "      <th>count</th>\n",
       "      <td>466.000000</td>\n",
       "      <td>466</td>\n",
       "      <td>418.000000</td>\n",
       "      <td>368</td>\n",
       "      <td>466.000000</td>\n",
       "    </tr>\n",
       "    <tr>\n",
       "      <th>unique</th>\n",
       "      <td>NaN</td>\n",
       "      <td>5</td>\n",
       "      <td>NaN</td>\n",
       "      <td>2</td>\n",
       "      <td>NaN</td>\n",
       "    </tr>\n",
       "    <tr>\n",
       "      <th>top</th>\n",
       "      <td>NaN</td>\n",
       "      <td>Beko</td>\n",
       "      <td>NaN</td>\n",
       "      <td>M</td>\n",
       "      <td>NaN</td>\n",
       "    </tr>\n",
       "    <tr>\n",
       "      <th>freq</th>\n",
       "      <td>NaN</td>\n",
       "      <td>323</td>\n",
       "      <td>NaN</td>\n",
       "      <td>238</td>\n",
       "      <td>NaN</td>\n",
       "    </tr>\n",
       "    <tr>\n",
       "      <th>mean</th>\n",
       "      <td>7.126609</td>\n",
       "      <td>NaN</td>\n",
       "      <td>40.186603</td>\n",
       "      <td>NaN</td>\n",
       "      <td>2.413090</td>\n",
       "    </tr>\n",
       "    <tr>\n",
       "      <th>std</th>\n",
       "      <td>2.764417</td>\n",
       "      <td>NaN</td>\n",
       "      <td>9.710367</td>\n",
       "      <td>NaN</td>\n",
       "      <td>1.081347</td>\n",
       "    </tr>\n",
       "    <tr>\n",
       "      <th>min</th>\n",
       "      <td>0.000000</td>\n",
       "      <td>NaN</td>\n",
       "      <td>18.000000</td>\n",
       "      <td>NaN</td>\n",
       "      <td>0.000000</td>\n",
       "    </tr>\n",
       "    <tr>\n",
       "      <th>25%</th>\n",
       "      <td>5.000000</td>\n",
       "      <td>NaN</td>\n",
       "      <td>33.250000</td>\n",
       "      <td>NaN</td>\n",
       "      <td>1.500000</td>\n",
       "    </tr>\n",
       "    <tr>\n",
       "      <th>50%</th>\n",
       "      <td>7.000000</td>\n",
       "      <td>NaN</td>\n",
       "      <td>40.000000</td>\n",
       "      <td>NaN</td>\n",
       "      <td>2.500000</td>\n",
       "    </tr>\n",
       "    <tr>\n",
       "      <th>75%</th>\n",
       "      <td>9.000000</td>\n",
       "      <td>NaN</td>\n",
       "      <td>47.000000</td>\n",
       "      <td>NaN</td>\n",
       "      <td>3.000000</td>\n",
       "    </tr>\n",
       "    <tr>\n",
       "      <th>max</th>\n",
       "      <td>17.000000</td>\n",
       "      <td>NaN</td>\n",
       "      <td>72.000000</td>\n",
       "      <td>NaN</td>\n",
       "      <td>5.000000</td>\n",
       "    </tr>\n",
       "  </tbody>\n",
       "</table>\n",
       "</div>"
      ],
      "text/plain": [
       "        Dni od zakupu Marka  Wiek kupującego Płeć kupującego       Ocena\n",
       "count      466.000000   466       418.000000             368  466.000000\n",
       "unique            NaN     5              NaN               2         NaN\n",
       "top               NaN  Beko              NaN               M         NaN\n",
       "freq              NaN   323              NaN             238         NaN\n",
       "mean         7.126609   NaN        40.186603             NaN    2.413090\n",
       "std          2.764417   NaN         9.710367             NaN    1.081347\n",
       "min          0.000000   NaN        18.000000             NaN    0.000000\n",
       "25%          5.000000   NaN        33.250000             NaN    1.500000\n",
       "50%          7.000000   NaN        40.000000             NaN    2.500000\n",
       "75%          9.000000   NaN        47.000000             NaN    3.000000\n",
       "max         17.000000   NaN        72.000000             NaN    5.000000"
      ]
     },
     "execution_count": 4,
     "metadata": {},
     "output_type": "execute_result"
    }
   ],
   "source": [
    "ds.describe(include='all')"
   ]
  },
  {
   "cell_type": "markdown",
   "metadata": {},
   "source": [
    "### Dni od zakupu:\n",
    "- średnia liczba dni, które minęła od zakupu wynosi od zakupu wynosi 7.12. \n",
    "- maksymalne dane pochodza z 17 dni wcześniej,\n",
    "- pojawiają się także przypadki zakupu odkurzacza w dniu, w którym pobrane zostały dane.\n",
    "\n",
    "### Marka\n",
    "- najczęściej wybieraną marka jest Beko,\n",
    "- w naszym zbiorze danych jest 5 różnych firm,\n",
    "- firma Beko pojawiła sie 323 z 466 razy.\n",
    "\n",
    "### Wiek kupującego\n",
    "- średni wiek klientów wynosi 40.18.\n",
    "- średnie odchylenie od tego wieku wynosi 9.71.\n",
    "- najmłodsza osoba, która kupiła odkurzacz miała 18 lat, najstarsza 72.\n",
    "\n",
    "### Płec kupującego\n",
    "- częściej odkurzacze kupują mężczyźni (238 z 368 kompletnych informacji),\n",
    "\n",
    "### Ocena\n",
    "- średnia ocena wynosi 2.41, czyli dość nisko,\n",
    "- najniższa ocena do 0.0, najwyższa to 5.0.\n",
    "- 75% ocen jest poniżej oceny 3.0."
   ]
  },
  {
   "cell_type": "markdown",
   "metadata": {},
   "source": [
    "## 2. Analiza - Dni od zakupu."
   ]
  },
  {
   "cell_type": "code",
   "execution_count": 5,
   "metadata": {},
   "outputs": [
    {
     "data": {
      "image/png": "[encoded data removed]",
      "text/plain": [
       "<Figure size 720x432 with 1 Axes>"
      ]
     },
     "metadata": {
      "needs_background": "light"
     },
     "output_type": "display_data"
    }
   ],
   "source": [
    "ds['Dni od zakupu'].hist(bins=16, grid=False, figsize=(10,6))\n",
    "plt.title('Histogram dni od zakupu')\n",
    "plt.show()"
   ]
  },
  {
   "cell_type": "markdown",
   "metadata": {},
   "source": [
    "### Brak cykliczności\n",
    "Najwięcej odkurzaczy zostało sprzedanych 5-8 dni temu, jest to ciekawa informacja, ponieważ moglibyśmy się spodziewać, że największa liczba sprzedanych odkurzaczy będzie powtarzać się cyklicznie na przykład co 7 dni z powodu weekendu."
   ]
  },
  {
   "cell_type": "markdown",
   "metadata": {},
   "source": [
    "## 3. Analiza - Marka."
   ]
  },
  {
   "cell_type": "code",
   "execution_count": 6,
   "metadata": {},
   "outputs": [
    {
     "name": "stdout",
     "output_type": "stream",
     "text": [
      "Frequency table\n",
      "Value      freq\n",
      "Beko          323\n",
      "Tefal          48\n",
      "Electrolux     47\n",
      "Dyson          34\n",
      "Samsung        14\n",
      "Name: Marka, dtype: int64\n"
     ]
    },
    {
     "data": {
      "image/png": "[encoded data removed]",
      "text/plain": [
       "<Figure size 720x432 with 1 Axes>"
      ]
     },
     "metadata": {
      "needs_background": "light"
     },
     "output_type": "display_data"
    }
   ],
   "source": [
    "print(\"Frequency table\\nValue      freq\")\n",
    "print(ds['Marka'].value_counts())\n",
    "\n",
    "ds['Marka'].hist(bins=range(0, 6), grid=True, figsize=(10,6))\n",
    "plt.title('Rozkład zakupionych marek')\n",
    "plt.show()"
   ]
  },
  {
   "cell_type": "markdown",
   "metadata": {},
   "source": [
    "## Liczba zakupionych\n",
    "\n",
    "Najczęściej wybieraną marką jest Beko: 323 sztuki. Najmniej kupiono odkurzaczy firmy Samsung: 14."
   ]
  },
  {
   "cell_type": "markdown",
   "metadata": {},
   "source": [
    "## 4. Analiza - Wiek kupującego"
   ]
  },
  {
   "cell_type": "code",
   "execution_count": 7,
   "metadata": {},
   "outputs": [
    {
     "data": {
      "image/png": "[encoded data removed]",
      "text/plain": [
       "<Figure size 720x432 with 1 Axes>"
      ]
     },
     "metadata": {
      "needs_background": "light"
     },
     "output_type": "display_data"
    }
   ],
   "source": [
    "n = len(ds['Wiek kupującego'].value_counts())\n",
    "\n",
    "ds['Wiek kupującego'].hist(bins=50, grid=True, figsize=(10,6))\n",
    "plt.title('Wiek kupujących')\n",
    "plt.show()"
   ]
  },
  {
   "cell_type": "markdown",
   "metadata": {},
   "source": [
    "## Wiek\n",
    "\n",
    "Najwięcej osób kupujących odkurzacze jest w wieku 30 - 50 lat. "
   ]
  },
  {
   "cell_type": "markdown",
   "metadata": {},
   "source": [
    "## 5. Analiza - Płeć kupującego."
   ]
  },
  {
   "cell_type": "code",
   "execution_count": 8,
   "metadata": {},
   "outputs": [
    {
     "data": {
      "image/png": "[encoded data removed]",
      "text/plain": [
       "<Figure size 432x288 with 1 Axes>"
      ]
     },
     "metadata": {
      "needs_background": "light"
     },
     "output_type": "display_data"
    }
   ],
   "source": [
    "ds['Płeć kupującego'].hist(bins=3, grid=False)\n",
    "plt.title('Płeć kupujących')\n",
    "plt.show()"
   ]
  },
  {
   "cell_type": "markdown",
   "metadata": {},
   "source": [
    "## Przewaga\n",
    "Wśród osób, które podały informacje na temat płci jest znacznie więcej mężczyzn."
   ]
  },
  {
   "cell_type": "markdown",
   "metadata": {},
   "source": [
    "## 6. Analiza - Ocena"
   ]
  },
  {
   "cell_type": "code",
   "execution_count": 9,
   "metadata": {},
   "outputs": [
    {
     "name": "stdout",
     "output_type": "stream",
     "text": [
      "Rozkład ocen\n",
      "Ocena  ilość\n",
      "2.0    92\n",
      "2.5    78\n",
      "1.5    67\n",
      "3.0    59\n",
      "1.0    47\n",
      "3.5    47\n",
      "4.0    30\n",
      "0.5    16\n",
      "5.0    14\n",
      "4.5    13\n",
      "0.0     3\n",
      "Name: Ocena, dtype: int64\n"
     ]
    },
    {
     "data": {
      "image/png": "[encoded data removed]",
      "text/plain": [
       "<Figure size 432x288 with 1 Axes>"
      ]
     },
     "metadata": {
      "needs_background": "light"
     },
     "output_type": "display_data"
    }
   ],
   "source": [
    "print(\"Rozkład ocen\\nOcena  ilość\")\n",
    "print(ds['Ocena'].value_counts())\n",
    "\n",
    "ds['Ocena'].hist(bins=11, grid=False)\n",
    "plt.title('Oceny przyznane przez klientów')\n",
    "plt.show()"
   ]
  },
  {
   "cell_type": "markdown",
   "metadata": {},
   "source": [
    "## Rozkład ocen\n",
    "\n",
    "Najwięcej przyznano ocen 2.0. Przyznano więcej ocen 5.0 niż 0.0. Rozkład przypomina krzywą gaussa co jest zgodne z logiką."
   ]
  },
  {
   "cell_type": "markdown",
   "metadata": {},
   "source": [
    "# 7. Dodatkowa analiza w celu znalezienia korelacji pomiędzy zmiennymi."
   ]
  },
  {
   "cell_type": "markdown",
   "metadata": {},
   "source": [
    "## Zależność satysfakcji od wieku "
   ]
  },
  {
   "cell_type": "code",
   "execution_count": 10,
   "metadata": {},
   "outputs": [
    {
     "data": {
      "image/png": "[encoded data removed]",
      "text/plain": [
       "<Figure size 432x288 with 1 Axes>"
      ]
     },
     "metadata": {
      "needs_background": "light"
     },
     "output_type": "display_data"
    }
   ],
   "source": [
    "ds_age = ds[['Wiek kupującego', 'Ocena']]\n",
    "ds_age = ds_age.dropna()\n",
    "ds_gb = ds_age.groupby(by='Wiek kupującego').mean()\n",
    "plt.plot(ds_gb)\n",
    "plt.xlabel('Wiek')\n",
    "plt.ylabel('Ocena')\n",
    "plt.grid()\n"
   ]
  },
  {
   "cell_type": "markdown",
   "metadata": {},
   "source": [
    "### Możemy zauważyć, że najlepsza średnia ocen została przyznana przez osoby w wieku 70 lat. Najgorsze oceny przydzieliły za to osoby w wieku 60-61 lat, gdzie średnia ocen wyniosła 1.0. Można zauważyć, że najlepsze oceny przydzielają osoby młodsze oraz starsze. Najgorsze oceny są przydzielane przez osoby w średnim wieku."
   ]
  },
  {
   "cell_type": "markdown",
   "metadata": {},
   "source": [
    "## Zależność satysfakcji od płci"
   ]
  },
  {
   "cell_type": "code",
   "execution_count": 11,
   "metadata": {},
   "outputs": [
    {
     "data": {
      "image/png": "[encoded data removed]",
      "text/plain": [
       "<Figure size 432x288 with 1 Axes>"
      ]
     },
     "metadata": {
      "needs_background": "light"
     },
     "output_type": "display_data"
    }
   ],
   "source": [
    "ds_sex = ds[['Płeć kupującego', 'Ocena']]\n",
    "ds_sex = ds_sex.dropna()\n",
    "ds_gb = ds_sex.groupby(by='Płeć kupującego').mean()\n",
    "plt.plot(ds_gb, 'o')\n",
    "plt.xlabel('Płeć')\n",
    "plt.ylabel('Ocena')\n",
    "plt.title('Zależność oceny od płci')\n",
    "plt.grid()\n",
    "plt.grid(False)\n",
    "plt.ylim([0, 5])\n",
    "plt.show()"
   ]
  },
  {
   "cell_type": "markdown",
   "metadata": {},
   "source": [
    "### Możemy zauważyć, że średnia ocen nie różni się znacznie wśród mężczyzn i kobiet."
   ]
  },
  {
   "cell_type": "markdown",
   "metadata": {},
   "source": [
    "## Zależność wyboru marki od wieku."
   ]
  },
  {
   "cell_type": "code",
   "execution_count": 20,
   "metadata": {},
   "outputs": [
    {
     "data": {
      "image/png": "[encoded data removed]",
      "text/plain": [
       "<Figure size 432x288 with 1 Axes>"
      ]
     },
     "metadata": {
      "needs_background": "light"
     },
     "output_type": "display_data"
    }
   ],
   "source": [
    "ds_sex = ds[['Marka', 'Wiek kupującego']]\n",
    "ds_sex = ds_sex.dropna()\n",
    "ds_gb = ds_sex.groupby(by='Marka').mean()\n",
    "plt.plot(ds_gb, 'o')\n",
    "plt.xlabel('Marka')\n",
    "plt.ylabel('Średni wiek kupującego')\n",
    "plt.title('Zależność wieku od marki')\n",
    "plt.grid(True)\n",
    "plt.show()"
   ]
  },
  {
   "cell_type": "markdown",
   "metadata": {},
   "source": [
    "### Widać, że głównie starsi klienci decydują się na wybór marki Dyson (średnia różni się o 5 lat względem Samsunga i Beko)."
   ]
  },
  {
   "cell_type": "markdown",
   "metadata": {},
   "source": [
    "## Zależność oceny od marki."
   ]
  },
  {
   "cell_type": "code",
   "execution_count": 18,
   "metadata": {},
   "outputs": [
    {
     "data": {
      "image/png": "[encoded data removed]",
      "text/plain": [
       "<Figure size 432x288 with 1 Axes>"
      ]
     },
     "metadata": {
      "needs_background": "light"
     },
     "output_type": "display_data"
    }
   ],
   "source": [
    "ds_sex = ds[['Marka', 'Ocena']]\n",
    "ds_sex = ds_sex.dropna()\n",
    "ds_gb = ds_sex.groupby(by='Marka').mean()\n",
    "plt.plot(ds_gb, 'o')\n",
    "plt.xlabel('Marka')\n",
    "plt.ylabel('Średnia Ocen')\n",
    "plt.title('Zależność oceny od marki')\n",
    "plt.grid(True)\n",
    "plt.show()"
   ]
  },
  {
   "cell_type": "markdown",
   "metadata": {},
   "source": [
    "### Według klientów najlepiej działają odkurzacze marki Samsung a najgorsze jakościowo są odkurzacze marki Tefal. Warto jednak zwrócić uwagę na to, że najwięcej osób kupuje odkurzacze marki Beko, więc możliwe, że stosunek jakości do ceny jest najlepszy."
   ]
  }
 ],
 "metadata": {
  "interpreter": {
   "hash": "84ea23bba3262778290e4113f9813c2e70005ee0706c90e479c176a1dbe6f9f7"
  },
  "kernelspec": {
   "display_name": "Python 3.8.3 64-bit ('base': conda)",
   "name": "python3"
  },
  "language_info": {
   "codemirror_mode": {
    "name": "ipython",
    "version": 3
   },
   "file_extension": ".py",
   "mimetype": "text/x-python",
   "name": "python",
   "nbconvert_exporter": "python",
   "pygments_lexer": "ipython3",
   "version": "3.8.3"
  },
  "orig_nbformat": 4
 },
 "nbformat": 4,
 "nbformat_minor": 2
}
