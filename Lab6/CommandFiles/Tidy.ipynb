{
 "cells": [
  {
   "cell_type": "markdown",
   "metadata": {},
   "source": [
    "## Tidy "
   ]
  },
  {
   "cell_type": "code",
   "execution_count": 26,
   "metadata": {},
   "outputs": [
    {
     "data": {
      "text/html": [
       "<div>\n",
       "<style scoped>\n",
       "    .dataframe tbody tr th:only-of-type {\n",
       "        vertical-align: middle;\n",
       "    }\n",
       "\n",
       "    .dataframe tbody tr th {\n",
       "        vertical-align: top;\n",
       "    }\n",
       "\n",
       "    .dataframe thead th {\n",
       "        text-align: right;\n",
       "    }\n",
       "</style>\n",
       "<table border=\"1\" class=\"dataframe\">\n",
       "  <thead>\n",
       "    <tr style=\"text-align: right;\">\n",
       "      <th></th>\n",
       "      <th>Dni od zakupu</th>\n",
       "      <th>Marka</th>\n",
       "      <th>Wiek kupującego</th>\n",
       "      <th>Płeć kupującego</th>\n",
       "      <th>Ocena</th>\n",
       "    </tr>\n",
       "  </thead>\n",
       "  <tbody>\n",
       "    <tr>\n",
       "      <th>0</th>\n",
       "      <td>7</td>\n",
       "      <td>Beko</td>\n",
       "      <td>33.0</td>\n",
       "      <td>M</td>\n",
       "      <td>3.0</td>\n",
       "    </tr>\n",
       "    <tr>\n",
       "      <th>1</th>\n",
       "      <td>7</td>\n",
       "      <td>Beko</td>\n",
       "      <td>55.0</td>\n",
       "      <td>bd.</td>\n",
       "      <td>3.0</td>\n",
       "    </tr>\n",
       "    <tr>\n",
       "      <th>2</th>\n",
       "      <td>10</td>\n",
       "      <td>Beko</td>\n",
       "      <td>50.0</td>\n",
       "      <td>M</td>\n",
       "      <td>2.0</td>\n",
       "    </tr>\n",
       "    <tr>\n",
       "      <th>3</th>\n",
       "      <td>11</td>\n",
       "      <td>Tefal</td>\n",
       "      <td>36.0</td>\n",
       "      <td>M</td>\n",
       "      <td>2.5</td>\n",
       "    </tr>\n",
       "    <tr>\n",
       "      <th>4</th>\n",
       "      <td>3</td>\n",
       "      <td>Beko</td>\n",
       "      <td>62.0</td>\n",
       "      <td>K</td>\n",
       "      <td>2.5</td>\n",
       "    </tr>\n",
       "  </tbody>\n",
       "</table>\n",
       "</div>"
      ],
      "text/plain": [
       "   Dni od zakupu  Marka  Wiek kupującego Płeć kupującego  Ocena\n",
       "0              7   Beko             33.0               M    3.0\n",
       "1              7   Beko             55.0             bd.    3.0\n",
       "2             10   Beko             50.0               M    2.0\n",
       "3             11  Tefal             36.0               M    2.5\n",
       "4              3   Beko             62.0               K    2.5"
      ]
     },
     "execution_count": 26,
     "metadata": {},
     "output_type": "execute_result"
    }
   ],
   "source": [
    "import pandas as pd\n",
    "import numpy as np\n",
    "import copy \n",
    "\n",
    "# Odczytanie pliku csv\n",
    "ds = pd.read_csv('../OriginalData/swietokrzyskie.csv', index_col=0)\n",
    "\n",
    "# 5 pierwszych rekordów\n",
    "ds.head(5)"
   ]
  },
  {
   "cell_type": "code",
   "execution_count": 27,
   "metadata": {},
   "outputs": [
    {
     "data": {
      "text/html": [
       "<div>\n",
       "<style scoped>\n",
       "    .dataframe tbody tr th:only-of-type {\n",
       "        vertical-align: middle;\n",
       "    }\n",
       "\n",
       "    .dataframe tbody tr th {\n",
       "        vertical-align: top;\n",
       "    }\n",
       "\n",
       "    .dataframe thead th {\n",
       "        text-align: right;\n",
       "    }\n",
       "</style>\n",
       "<table border=\"1\" class=\"dataframe\">\n",
       "  <thead>\n",
       "    <tr style=\"text-align: right;\">\n",
       "      <th></th>\n",
       "      <th>Dni od zakupu</th>\n",
       "      <th>Marka</th>\n",
       "      <th>Wiek kupującego</th>\n",
       "      <th>Płeć kupującego</th>\n",
       "      <th>Ocena</th>\n",
       "    </tr>\n",
       "  </thead>\n",
       "  <tbody>\n",
       "    <tr>\n",
       "      <th>0</th>\n",
       "      <td>7</td>\n",
       "      <td>Beko</td>\n",
       "      <td>33.0</td>\n",
       "      <td>M</td>\n",
       "      <td>3.0</td>\n",
       "    </tr>\n",
       "    <tr>\n",
       "      <th>1</th>\n",
       "      <td>7</td>\n",
       "      <td>Beko</td>\n",
       "      <td>55.0</td>\n",
       "      <td>None</td>\n",
       "      <td>3.0</td>\n",
       "    </tr>\n",
       "    <tr>\n",
       "      <th>2</th>\n",
       "      <td>10</td>\n",
       "      <td>Beko</td>\n",
       "      <td>50.0</td>\n",
       "      <td>M</td>\n",
       "      <td>2.0</td>\n",
       "    </tr>\n",
       "    <tr>\n",
       "      <th>3</th>\n",
       "      <td>11</td>\n",
       "      <td>Tefal</td>\n",
       "      <td>36.0</td>\n",
       "      <td>M</td>\n",
       "      <td>2.5</td>\n",
       "    </tr>\n",
       "    <tr>\n",
       "      <th>4</th>\n",
       "      <td>3</td>\n",
       "      <td>Beko</td>\n",
       "      <td>62.0</td>\n",
       "      <td>K</td>\n",
       "      <td>2.5</td>\n",
       "    </tr>\n",
       "  </tbody>\n",
       "</table>\n",
       "</div>"
      ],
      "text/plain": [
       "   Dni od zakupu  Marka  Wiek kupującego Płeć kupującego  Ocena\n",
       "0              7   Beko             33.0               M    3.0\n",
       "1              7   Beko             55.0            None    3.0\n",
       "2             10   Beko             50.0               M    2.0\n",
       "3             11  Tefal             36.0               M    2.5\n",
       "4              3   Beko             62.0               K    2.5"
      ]
     },
     "execution_count": 27,
     "metadata": {},
     "output_type": "execute_result"
    }
   ],
   "source": [
    "# Głęboka kopia oryginalnych danych\n",
    "ds_clear = copy.deepcopy(ds)\n",
    "\n",
    "# Mapowanie opisu 'bd.' na wartość None, wyświetlenie wyniku\n",
    "ds_clear['Płeć kupującego'] = ds_clear['Płeć kupującego'].map({'bd.': None, 'K': 'K', 'M': 'M'})\n",
    "ds_clear.head(5)"
   ]
  },
  {
   "cell_type": "code",
   "execution_count": 28,
   "metadata": {},
   "outputs": [],
   "source": [
    "# Zapis do nowego pliku csv\n",
    "ds_clear.to_csv(path_or_buf='../AnalysisData/swietokrzyskie_clean.csv', index=False)"
   ]
  }
 ],
 "metadata": {
  "interpreter": {
   "hash": "916dbcbb3f70747c44a77c7bcd40155683ae19c65e1c03b4aa3499c5328201f1"
  },
  "kernelspec": {
   "display_name": "Python 3.8.10 64-bit",
   "language": "python",
   "name": "python3"
  },
  "language_info": {
   "codemirror_mode": {
    "name": "ipython",
    "version": 3
   },
   "file_extension": ".py",
   "mimetype": "text/x-python",
   "name": "python",
   "nbconvert_exporter": "python",
   "pygments_lexer": "ipython3",
   "version": "3.8.10"
  },
  "orig_nbformat": 4
 },
 "nbformat": 4,
 "nbformat_minor": 2
}
