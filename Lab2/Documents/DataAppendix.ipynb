{
 "cells": [
  {
   "cell_type": "markdown",
   "source": [
    "# Kacper Motyka, Laboratorium 2"
   ],
   "metadata": {}
  },
  {
   "cell_type": "markdown",
   "source": [
    "# DataAppendix\r\n",
    "### The data was extracted from OriginalFiles/tb.csv."
   ],
   "metadata": {}
  },
  {
   "cell_type": "code",
   "execution_count": 55,
   "source": [
    "import pandas as pd\r\n",
    "import matplotlib.pyplot as plt \r\n",
    "\r\n",
    "#Reading csv file which contains original data\r\n",
    "dataset = pd.read_csv(\"../AnalysisData/tb_clean.csv\")\r\n",
    "\r\n",
    "#Contents of first five records\r\n",
    "dataset.head()"
   ],
   "outputs": [
    {
     "output_type": "execute_result",
     "data": {
      "text/html": [
       "<div>\n",
       "<style scoped>\n",
       "    .dataframe tbody tr th:only-of-type {\n",
       "        vertical-align: middle;\n",
       "    }\n",
       "\n",
       "    .dataframe tbody tr th {\n",
       "        vertical-align: top;\n",
       "    }\n",
       "\n",
       "    .dataframe thead th {\n",
       "        text-align: right;\n",
       "    }\n",
       "</style>\n",
       "<table border=\"1\" class=\"dataframe\">\n",
       "  <thead>\n",
       "    <tr style=\"text-align: right;\">\n",
       "      <th></th>\n",
       "      <th>city</th>\n",
       "      <th>year</th>\n",
       "      <th>age</th>\n",
       "      <th>count</th>\n",
       "      <th>sex</th>\n",
       "    </tr>\n",
       "  </thead>\n",
       "  <tbody>\n",
       "    <tr>\n",
       "      <th>0</th>\n",
       "      <td>AD</td>\n",
       "      <td>2005</td>\n",
       "      <td>0-4</td>\n",
       "      <td>0.0</td>\n",
       "      <td>male</td>\n",
       "    </tr>\n",
       "    <tr>\n",
       "      <th>1</th>\n",
       "      <td>AD</td>\n",
       "      <td>2006</td>\n",
       "      <td>0-4</td>\n",
       "      <td>0.0</td>\n",
       "      <td>male</td>\n",
       "    </tr>\n",
       "    <tr>\n",
       "      <th>2</th>\n",
       "      <td>AD</td>\n",
       "      <td>2008</td>\n",
       "      <td>0-4</td>\n",
       "      <td>0.0</td>\n",
       "      <td>male</td>\n",
       "    </tr>\n",
       "    <tr>\n",
       "      <th>3</th>\n",
       "      <td>AE</td>\n",
       "      <td>2006</td>\n",
       "      <td>0-4</td>\n",
       "      <td>0.0</td>\n",
       "      <td>male</td>\n",
       "    </tr>\n",
       "    <tr>\n",
       "      <th>4</th>\n",
       "      <td>AE</td>\n",
       "      <td>2007</td>\n",
       "      <td>0-4</td>\n",
       "      <td>0.0</td>\n",
       "      <td>male</td>\n",
       "    </tr>\n",
       "  </tbody>\n",
       "</table>\n",
       "</div>"
      ],
      "text/plain": [
       "  city  year  age  count   sex\n",
       "0   AD  2005  0-4    0.0  male\n",
       "1   AD  2006  0-4    0.0  male\n",
       "2   AD  2008  0-4    0.0  male\n",
       "3   AE  2006  0-4    0.0  male\n",
       "4   AE  2007  0-4    0.0  male"
      ]
     },
     "metadata": {},
     "execution_count": 55
    }
   ],
   "metadata": {}
  },
  {
   "cell_type": "markdown",
   "source": [
    "### We can see that data were imported properly."
   ],
   "metadata": {}
  },
  {
   "cell_type": "code",
   "execution_count": 56,
   "source": [
    "dataset.info()"
   ],
   "outputs": [
    {
     "output_type": "stream",
     "name": "stdout",
     "text": [
      "<class 'pandas.core.frame.DataFrame'>\n",
      "RangeIndex: 35552 entries, 0 to 35551\n",
      "Data columns (total 5 columns):\n",
      " #   Column  Non-Null Count  Dtype  \n",
      "---  ------  --------------  -----  \n",
      " 0   city    35552 non-null  object \n",
      " 1   year    35552 non-null  int64  \n",
      " 2   age     35009 non-null  object \n",
      " 3   count   35552 non-null  float64\n",
      " 4   sex     35552 non-null  object \n",
      "dtypes: float64(1), int64(1), object(3)\n",
      "memory usage: 1.4+ MB\n"
     ]
    }
   ],
   "metadata": {}
  },
  {
   "cell_type": "markdown",
   "source": [
    "### Empty spaces were deleted."
   ],
   "metadata": {}
  },
  {
   "cell_type": "code",
   "execution_count": 57,
   "source": [
    "dataset.describe(include='all')"
   ],
   "outputs": [
    {
     "output_type": "execute_result",
     "data": {
      "text/html": [
       "<div>\n",
       "<style scoped>\n",
       "    .dataframe tbody tr th:only-of-type {\n",
       "        vertical-align: middle;\n",
       "    }\n",
       "\n",
       "    .dataframe tbody tr th {\n",
       "        vertical-align: top;\n",
       "    }\n",
       "\n",
       "    .dataframe thead th {\n",
       "        text-align: right;\n",
       "    }\n",
       "</style>\n",
       "<table border=\"1\" class=\"dataframe\">\n",
       "  <thead>\n",
       "    <tr style=\"text-align: right;\">\n",
       "      <th></th>\n",
       "      <th>city</th>\n",
       "      <th>year</th>\n",
       "      <th>age</th>\n",
       "      <th>count</th>\n",
       "      <th>sex</th>\n",
       "    </tr>\n",
       "  </thead>\n",
       "  <tbody>\n",
       "    <tr>\n",
       "      <th>count</th>\n",
       "      <td>35552</td>\n",
       "      <td>35552.000000</td>\n",
       "      <td>35009</td>\n",
       "      <td>35552.000000</td>\n",
       "      <td>35552</td>\n",
       "    </tr>\n",
       "    <tr>\n",
       "      <th>unique</th>\n",
       "      <td>212</td>\n",
       "      <td>NaN</td>\n",
       "      <td>9</td>\n",
       "      <td>NaN</td>\n",
       "      <td>2</td>\n",
       "    </tr>\n",
       "    <tr>\n",
       "      <th>top</th>\n",
       "      <td>CA</td>\n",
       "      <td>NaN</td>\n",
       "      <td>45-54</td>\n",
       "      <td>NaN</td>\n",
       "      <td>male</td>\n",
       "    </tr>\n",
       "    <tr>\n",
       "      <th>freq</th>\n",
       "      <td>420</td>\n",
       "      <td>NaN</td>\n",
       "      <td>4794</td>\n",
       "      <td>NaN</td>\n",
       "      <td>17821</td>\n",
       "    </tr>\n",
       "    <tr>\n",
       "      <th>mean</th>\n",
       "      <td>NaN</td>\n",
       "      <td>2002.015752</td>\n",
       "      <td>NaN</td>\n",
       "      <td>611.124944</td>\n",
       "      <td>NaN</td>\n",
       "    </tr>\n",
       "    <tr>\n",
       "      <th>std</th>\n",
       "      <td>NaN</td>\n",
       "      <td>4.350308</td>\n",
       "      <td>NaN</td>\n",
       "      <td>3287.151031</td>\n",
       "      <td>NaN</td>\n",
       "    </tr>\n",
       "    <tr>\n",
       "      <th>min</th>\n",
       "      <td>NaN</td>\n",
       "      <td>1980.000000</td>\n",
       "      <td>NaN</td>\n",
       "      <td>0.000000</td>\n",
       "      <td>NaN</td>\n",
       "    </tr>\n",
       "    <tr>\n",
       "      <th>25%</th>\n",
       "      <td>NaN</td>\n",
       "      <td>1999.000000</td>\n",
       "      <td>NaN</td>\n",
       "      <td>4.000000</td>\n",
       "      <td>NaN</td>\n",
       "    </tr>\n",
       "    <tr>\n",
       "      <th>50%</th>\n",
       "      <td>NaN</td>\n",
       "      <td>2002.000000</td>\n",
       "      <td>NaN</td>\n",
       "      <td>35.000000</td>\n",
       "      <td>NaN</td>\n",
       "    </tr>\n",
       "    <tr>\n",
       "      <th>75%</th>\n",
       "      <td>NaN</td>\n",
       "      <td>2006.000000</td>\n",
       "      <td>NaN</td>\n",
       "      <td>244.000000</td>\n",
       "      <td>NaN</td>\n",
       "    </tr>\n",
       "    <tr>\n",
       "      <th>max</th>\n",
       "      <td>NaN</td>\n",
       "      <td>2008.000000</td>\n",
       "      <td>NaN</td>\n",
       "      <td>90498.000000</td>\n",
       "      <td>NaN</td>\n",
       "    </tr>\n",
       "  </tbody>\n",
       "</table>\n",
       "</div>"
      ],
      "text/plain": [
       "         city          year    age         count    sex\n",
       "count   35552  35552.000000  35009  35552.000000  35552\n",
       "unique    212           NaN      9           NaN      2\n",
       "top        CA           NaN  45-54           NaN   male\n",
       "freq      420           NaN   4794           NaN  17821\n",
       "mean      NaN   2002.015752    NaN    611.124944    NaN\n",
       "std       NaN      4.350308    NaN   3287.151031    NaN\n",
       "min       NaN   1980.000000    NaN      0.000000    NaN\n",
       "25%       NaN   1999.000000    NaN      4.000000    NaN\n",
       "50%       NaN   2002.000000    NaN     35.000000    NaN\n",
       "75%       NaN   2006.000000    NaN    244.000000    NaN\n",
       "max       NaN   2008.000000    NaN  90498.000000    NaN"
      ]
     },
     "metadata": {},
     "execution_count": 57
    }
   ],
   "metadata": {}
  },
  {
   "cell_type": "markdown",
   "source": [
    "### We can see that number of ill people is the highest in age range 45-54. Mean of ill number is higher for male than female. We can also deduce that there are informations from 212 cities."
   ],
   "metadata": {}
  },
  {
   "cell_type": "markdown",
   "source": [
    "## 1. City\r\n",
    "### City contains information about the place where data was collected. Top city is 'CA'."
   ],
   "metadata": {}
  },
  {
   "cell_type": "code",
   "execution_count": 62,
   "source": [
    "print(\"Frequency table\\nValue      freq\")\r\n",
    "print(dataset['city'].value_counts())"
   ],
   "outputs": [
    {
     "output_type": "stream",
     "name": "stdout",
     "text": [
      "Frequency table\n",
      "Value      freq\n",
      "CA    420\n",
      "CK    342\n",
      "SK    220\n",
      "BA    220\n",
      "MK    220\n",
      "     ... \n",
      "VI     21\n",
      "BM     16\n",
      "AI     15\n",
      "MC     14\n",
      "VG      4\n",
      "Name: city, Length: 212, dtype: int64\n"
     ]
    }
   ],
   "metadata": {}
  },
  {
   "cell_type": "markdown",
   "source": [
    "## 2. Year\r\n",
    "### Contains information about the year when data was collected. We can see that data was collected mainly "
   ],
   "metadata": {}
  },
  {
   "cell_type": "code",
   "execution_count": 66,
   "source": [
    "plt.figure(figsize=(5,5))\r\n",
    "dataset['year'].hist()\r\n",
    "plt.title('Year ranges distribution')\r\n",
    "plt.show()\r\n"
   ],
   "outputs": [
    {
     "output_type": "display_data",
     "data": {
      "image/png": "[encoded data removed]",
      "text/plain": [
       "<Figure size 360x360 with 1 Axes>"
      ]
     },
     "metadata": {
      "needs_background": "light"
     }
    }
   ],
   "metadata": {}
  },
  {
   "cell_type": "markdown",
   "source": [
    "## 3. Age"
   ],
   "metadata": {}
  },
  {
   "cell_type": "code",
   "execution_count": 67,
   "source": [
    "plt.figure(figsize=(5,5))\r\n",
    "dataset['age'].hist()\r\n",
    "plt.title('Age ranges distribution')\r\n",
    "plt.show()\r\n",
    "\r\n",
    "print(\"Frequency table\\nValue      freq\")\r\n",
    "print(dataset['age'].value_counts())"
   ],
   "outputs": [
    {
     "output_type": "display_data",
     "data": {
      "image/png": "[encoded data removed]",
      "text/plain": [
       "<Figure size 360x360 with 1 Axes>"
      ]
     },
     "metadata": {
      "needs_background": "light"
     }
    },
    {
     "output_type": "stream",
     "name": "stdout",
     "text": [
      "Frequency table\n",
      "Value      freq\n",
      "45-54    4794\n",
      "35-44    4785\n",
      "25-34    4780\n",
      "55-64    4780\n",
      "65+      4776\n",
      "15-24    4773\n",
      "0-14     4731\n",
      "5-14      805\n",
      "0-4       785\n",
      "Name: age, dtype: int64\n"
     ]
    }
   ],
   "metadata": {}
  },
  {
   "cell_type": "markdown",
   "source": [
    "## 4. Sex\r\n",
    "### We can see that there is almost the same number of male and female."
   ],
   "metadata": {}
  },
  {
   "cell_type": "code",
   "execution_count": 65,
   "source": [
    "plt.figure(figsize=(5,5))\r\n",
    "dataset['sex'].hist()\r\n",
    "plt.title('Sex ranges distribution')\r\n",
    "plt.show()\r\n",
    "\r\n",
    "print(\"Frequency table\\nValue      freq\")\r\n",
    "print(dataset['sex'].value_counts())"
   ],
   "outputs": [
    {
     "output_type": "display_data",
     "data": {
      "image/png": "[encoded data removed]",
      "text/plain": [
       "<Figure size 360x360 with 1 Axes>"
      ]
     },
     "metadata": {
      "needs_background": "light"
     }
    },
    {
     "output_type": "stream",
     "name": "stdout",
     "text": [
      "Frequency table\n",
      "Value      freq\n",
      "male      17821\n",
      "female    17731\n",
      "Name: sex, dtype: int64\n"
     ]
    }
   ],
   "metadata": {}
  },
  {
   "cell_type": "markdown",
   "source": [
    "## 5. Count\r\n",
    "### Count column contains information about number of ill people in a group of people."
   ],
   "metadata": {}
  }
 ],
 "metadata": {
  "interpreter": {
   "hash": "84ea23bba3262778290e4113f9813c2e70005ee0706c90e479c176a1dbe6f9f7"
  },
  "kernelspec": {
   "name": "python3",
   "display_name": "Python 3.8.3 64-bit ('base': conda)"
  },
  "language_info": {
   "codemirror_mode": {
    "name": "ipython",
    "version": 3
   },
   "file_extension": ".py",
   "mimetype": "text/x-python",
   "name": "python",
   "nbconvert_exporter": "python",
   "pygments_lexer": "ipython3",
   "version": "3.8.3"
  },
  "orig_nbformat": 4
 },
 "nbformat": 4,
 "nbformat_minor": 2
}